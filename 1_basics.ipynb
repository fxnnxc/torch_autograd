{
 "cells": [
  {
   "cell_type": "markdown",
   "metadata": {},
   "source": [
    "# Torch AutoGrad Examples"
   ]
  },
  {
   "cell_type": "code",
   "execution_count": 38,
   "metadata": {},
   "outputs": [],
   "source": [
    "import torch\n",
    "\n",
    "a = torch.tensor(2., requires_grad=True)\n",
    "b = torch.tensor(6., requires_grad=True)"
   ]
  },
  {
   "cell_type": "markdown",
   "metadata": {},
   "source": [
    "$$ \n",
    "    Q = 3a^3 - b^2\n",
    "$$  \n",
    "\n",
    "$$\n",
    "\\frac{\\partial Q}{\\partial a} = 9a^2 \\text{~and~} \\frac{\\partial Q}{\\partial b} = -2b\n",
    "$$\n",
    "\n",
    "\n",
    "$$\n",
    "\\text{For~} a=2, b=6, \n",
    "$$ \n",
    "\n",
    "$$\n",
    "\\frac{\\partial Q}{\\partial a} = 9(2)^2 =36 \\\\\n",
    "\\text{and} \\\\\n",
    "\\frac{\\partial Q}{\\partial b} = -2(6) = -12\n",
    "$$"
   ]
  },
  {
   "cell_type": "code",
   "execution_count": 39,
   "metadata": {},
   "outputs": [
    {
     "data": {
      "text/plain": [
       "(tensor(36.), tensor(-12.))"
      ]
     },
     "execution_count": 39,
     "metadata": {},
     "output_type": "execute_result"
    }
   ],
   "source": [
    "Q = 3*a**3 - b**2\n",
    "Q.backward()\n",
    "a.grad, b.grad "
   ]
  },
  {
   "cell_type": "markdown",
   "metadata": {},
   "source": [
    "$a \\text{~and~} b$ are leaf nodes. On the other hand, $Q, 3*a**3, \\text{~and~} b**2$ are gradient functions. "
   ]
  },
  {
   "cell_type": "code",
   "execution_count": 40,
   "metadata": {},
   "outputs": [
    {
     "data": {
      "text/plain": [
       "(tensor(-12., grad_fn=<SubBackward0>),\n",
       " tensor(24., grad_fn=<MulBackward0>),\n",
       " tensor(36., grad_fn=<PowBackward0>),\n",
       " tensor(2., requires_grad=True),\n",
       " tensor(6., requires_grad=True))"
      ]
     },
     "execution_count": 40,
     "metadata": {},
     "output_type": "execute_result"
    }
   ],
   "source": [
    "Q,  3*a**3, b**2, a, b"
   ]
  },
  {
   "cell_type": "code",
   "execution_count": null,
   "metadata": {},
   "outputs": [],
   "source": []
  }
 ],
 "metadata": {
  "kernelspec": {
   "display_name": "Python 3.9.7 ('base')",
   "language": "python",
   "name": "python3"
  },
  "language_info": {
   "codemirror_mode": {
    "name": "ipython",
    "version": 3
   },
   "file_extension": ".py",
   "mimetype": "text/x-python",
   "name": "python",
   "nbconvert_exporter": "python",
   "pygments_lexer": "ipython3",
   "version": "3.9.7"
  },
  "orig_nbformat": 4,
  "vscode": {
   "interpreter": {
    "hash": "728ed223cfa85ea1ef5dcc6c79a939ffd9902707d91f95b40f547e46903ca84f"
   }
  }
 },
 "nbformat": 4,
 "nbformat_minor": 2
}
